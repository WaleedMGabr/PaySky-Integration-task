{
  "cells": [
    {
      "cell_type": "code",
      "execution_count": 38,
      "metadata": {
        "_cell_guid": "b1076dfc-b9ad-4769-8c92-a6c4dae69d19",
        "_uuid": "8f2839f25d086af736a60e9eeb907d3b93b6e0e5",
        "execution": {
          "iopub.execute_input": "2025-08-25T16:10:08.201475Z",
          "iopub.status.busy": "2025-08-25T16:10:08.201088Z",
          "iopub.status.idle": "2025-08-25T16:10:08.567342Z",
          "shell.execute_reply": "2025-08-25T16:10:08.566382Z",
          "shell.execute_reply.started": "2025-08-25T16:10:08.201447Z"
        },
        "trusted": true,
        "id": "yX8_2O1BOnRv"
      },
      "outputs": [],
      "source": [
        "\n",
        "import os\n",
        "\n",
        "with open(\".env\", \"w\") as f:\n",
        "    f.write(\"SECRET_KEY=egy_sk_test_736b619f9f89b6d8378e4973dcb4ea415884a8729ee4b0226700b5c3225f5613\\n\")\n",
        "    f.write(\"PUBLIC_KEY=egy_pk_test_1Cob5RoKoxL9yDZcebyYZ3F59hiIVBGT\\n\")\n",
        "    f.write(\"INTEGRATION_ID=5267090\\n\")\n",
        "    f.write(\"REDIRECTION_URL=https://accept.paymob.com/unifiedcheckout/?publicKey=egy_pk_test_1Cob5RoKoxL9yDZcebyYZ3F59hiIVBGT&clientSecret;=egy_sk_test_736b619f9f89b6d8378e4973dcb4ea415884a8729ee4b0226700b5c3225f5613\\n\")\n",
        "    f.write(\"NOTIFICATION_URL=https://accept.paymobsolutions.com/api/acceptance/post_pay\\n\")\n"
      ]
    },
    {
      "cell_type": "code",
      "source": [
        "import uuid\n",
        "import json\n",
        "import logging\n",
        "import requests\n",
        "from dotenv import load_dotenv\n",
        "\n",
        "load_dotenv()\n",
        "\n",
        "SECRET_KEY = os.getenv(\"SECRET_KEY\")\n",
        "PUBLIC_KEY = os.getenv(\"PUBLIC_KEY\")\n",
        "INTEGRATION_ID = os.getenv(\"INTEGRATION_ID\")\n",
        "REDIRECTION_URL = os.getenv(\"REDIRECTION_URL\")\n",
        "NOTIFICATION_URL = os.getenv(\"NOTIFICATION_URL\")\n",
        "\n",
        "if not SECRET_KEY or not PUBLIC_KEY or not INTEGRATION_ID:\n",
        "    raise SystemExit(\"Missing required environment variables.\")\n",
        "\n",
        "INTENTION_URL = \"https://accept.paymob.com/v1/intention/\"\n",
        "\n",
        "\n",
        "def create_intention(amount_egp: float, items=None, billing_data=None):\n",
        "    merchant_order_id = f\"order_{uuid.uuid4().hex[:12]}\"\n",
        "    amount_cents = int(round(amount_egp * 100))\n",
        "\n",
        "    if billing_data is None:\n",
        "        billing_data = {\n",
        "            \"apartment\": \"803\",\n",
        "            \"floor\": \"8\",\n",
        "            \"first_name\": \"Test\",\n",
        "            \"last_name\": \"User\",\n",
        "            \"street\": \"Test Street\",\n",
        "            \"building\": \"10\",\n",
        "            \"phone_number\": \"+201234567890\",\n",
        "            \"shipping_method\": \"PKG\",\n",
        "            \"city\": \"Cairo\",\n",
        "            \"country\": \"EG\",\n",
        "            \"state\": \"Cairo\",\n",
        "            \"email\": \"test@example.com\",\n",
        "            \"postal_code\": \"12345\"\n",
        "        }\n",
        "\n",
        "    payload = {\n",
        "        \"amount\": amount_cents,\n",
        "        \"currency\": \"EGP\",\n",
        "        \"merchant_order_id\": merchant_order_id,\n",
        "        \"integration_id\": int(INTEGRATION_ID),\n",
        "        \"payment_methods\": [int(INTEGRATION_ID)],\n",
        "        \"items\": items or [],\n",
        "        \"billing_data\": billing_data\n",
        "    }\n",
        "\n",
        "    if REDIRECTION_URL:\n",
        "        payload[\"redirection_url\"] = REDIRECTION_URL\n",
        "    if NOTIFICATION_URL:\n",
        "        payload[\"notification_url\"] = NOTIFICATION_URL\n",
        "\n",
        "\n",
        "    headers = {\n",
        "        \"Authorization\": f\"Token {SECRET_KEY}\",\n",
        "        \"Content-Type\": \"application/json\"\n",
        "    }\n",
        "\n",
        "    resp = requests.post(INTENTION_URL, headers=headers, data=json.dumps(payload), timeout=15)\n",
        "    if resp.status_code not in [200, 201]:\n",
        "        resp.raise_for_status()\n",
        "\n",
        "    data = resp.json()\n",
        "    return data\n",
        "\n",
        "def build_unified_checkout_url(client_secret: str) -> str:\n",
        "    return f\"https://accept.paymob.com/unifiedcheckout/?publicKey={PUBLIC_KEY}&clientSecret={client_secret}\"\n",
        "\n",
        "if __name__ == \"__main__\":\n",
        "    try:\n",
        "        items = [\n",
        "            {\n",
        "                \"name\": \"Test Product\",\n",
        "                \"amount\": 1000,\n",
        "                \"quantity\": 1,\n",
        "                \"description\": \"Sample item\",\n",
        "                \"image\": None\n",
        "            }\n",
        "        ]\n",
        "\n",
        "        resp = create_intention(amount_egp=10.00, items=items)\n",
        "        client_secret = resp.get(\"client_secret\")\n",
        "        checkout_url = build_unified_checkout_url(client_secret)\n",
        "        print(\"\\n Open this URL to complete payment:\")\n",
        "        print(checkout_url)\n",
        "\n",
        "    except Exception as e:\n",
        "        print(\"Failed to create intention: %s\", e)\n"
      ],
      "metadata": {
        "colab": {
          "base_uri": "https://localhost:8080/"
        },
        "id": "7bTa6c_kkrCw",
        "outputId": "432757b1-bf4d-4171-cab2-43f1c2442291"
      },
      "execution_count": 42,
      "outputs": [
        {
          "output_type": "stream",
          "name": "stdout",
          "text": [
            "\n",
            " Open this URL to complete payment:\n",
            "https://accept.paymob.com/unifiedcheckout/?publicKey=egy_pk_test_1Cob5RoKoxL9yDZcebyYZ3F59hiIVBGT&clientSecret=egy_csk_test_67558216308b819beb20c71d6f513bfb\n"
          ]
        }
      ]
    }
  ],
  "metadata": {
    "kaggle": {
      "accelerator": "none",
      "dataSources": [
        {
          "datasetId": 82373,
          "sourceId": 191501,
          "sourceType": "datasetVersion"
        }
      ],
      "isGpuEnabled": false,
      "isInternetEnabled": false,
      "language": "python",
      "sourceType": "notebook"
    },
    "kernelspec": {
      "display_name": "Python 3",
      "language": "python",
      "name": "python3"
    },
    "language_info": {
      "codemirror_mode": {
        "name": "ipython",
        "version": 3
      },
      "file_extension": ".py",
      "mimetype": "text/x-python",
      "name": "python",
      "nbconvert_exporter": "python",
      "pygments_lexer": "ipython3",
      "version": "3.11.13"
    },
    "colab": {
      "provenance": []
    }
  },
  "nbformat": 4,
  "nbformat_minor": 0
}